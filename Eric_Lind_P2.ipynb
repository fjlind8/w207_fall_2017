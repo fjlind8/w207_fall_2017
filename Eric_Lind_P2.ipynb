{
 "cells": [
  {
   "cell_type": "markdown",
   "metadata": {},
   "source": [
    "# Project 2: Topic Classification"
   ]
  },
  {
   "cell_type": "markdown",
   "metadata": {},
   "source": [
    "In this project, you'll work with text data from newsgroup postings on a variety of topics. You'll train classifiers to distinguish between the topics based on the text of the posts. Whereas with digit classification, the input is relatively dense: a 28x28 matrix of pixels, many of which are non-zero, here we'll represent each document with a \"bag-of-words\" model. As you'll see, this makes the feature representation quite sparse -- only a few words of the total vocabulary are active in any given document. The bag-of-words assumption here is that the label depends only on the words; their order is not important.\n",
    "\n",
    "The SK-learn documentation on feature extraction will prove useful:\n",
    "http://scikit-learn.org/stable/modules/feature_extraction.html\n",
    "\n",
    "Each problem can be addressed succinctly with the included packages -- please don't add any more. Grading will be based on writing clean, commented code, along with a few short answers.\n",
    "\n",
    "As always, you're welcome to work on the project in groups and discuss ideas on the course wall, but please prepare your own write-up and write your own code."
   ]
  },
  {
   "cell_type": "code",
   "execution_count": 1,
   "metadata": {},
   "outputs": [
    {
     "name": "stderr",
     "output_type": "stream",
     "text": [
      "/anaconda2/lib/python2.7/site-packages/sklearn/cross_validation.py:41: DeprecationWarning: This module was deprecated in version 0.18 in favor of the model_selection module into which all the refactored classes and functions are moved. Also note that the interface of the new CV iterators are different from that of this module. This module will be removed in 0.20.\n",
      "  \"This module will be removed in 0.20.\", DeprecationWarning)\n",
      "/anaconda2/lib/python2.7/site-packages/sklearn/grid_search.py:42: DeprecationWarning: This module was deprecated in version 0.18 in favor of the model_selection module into which all the refactored classes and functions are moved. This module will be removed in 0.20.\n",
      "  DeprecationWarning)\n"
     ]
    }
   ],
   "source": [
    "# This tells matplotlib not to try opening a new window for each plot.\n",
    "%matplotlib inline\n",
    "\n",
    "# General libraries.\n",
    "import re\n",
    "import numpy as np\n",
    "import pandas as pd\n",
    "import matplotlib.pyplot as plt\n",
    "\n",
    "# SK-learn libraries for learning.\n",
    "from sklearn.pipeline import Pipeline\n",
    "from sklearn.neighbors import KNeighborsClassifier\n",
    "from sklearn.linear_model import LogisticRegression\n",
    "from sklearn.naive_bayes import BernoulliNB\n",
    "from sklearn.naive_bayes import MultinomialNB\n",
    "from sklearn.grid_search import GridSearchCV\n",
    "\n",
    "# SK-learn libraries for evaluation.\n",
    "from sklearn.metrics import confusion_matrix\n",
    "from sklearn import metrics\n",
    "from sklearn.metrics import classification_report\n",
    "\n",
    "# SK-learn library for importing the newsgroup data.\n",
    "from sklearn.datasets import fetch_20newsgroups\n",
    "\n",
    "# SK-learn libraries for feature extraction from text.\n",
    "from sklearn.feature_extraction.text import *"
   ]
  },
  {
   "cell_type": "markdown",
   "metadata": {},
   "source": [
    "Load the data, stripping out metadata so that we learn classifiers that only use textual features. By default, newsgroups data is split into train and test sets. We further split the test so we have a dev set. Note that we specify 4 categories to use for this project. If you remove the categories argument from the fetch function, you'll get all 20 categories."
   ]
  },
  {
   "cell_type": "code",
   "execution_count": 2,
   "metadata": {},
   "outputs": [
    {
     "name": "stdout",
     "output_type": "stream",
     "text": [
      "training label shape: (2034,)\n",
      "test label shape: (677,)\n",
      "dev label shape: (676,)\n",
      "labels names: ['alt.atheism', 'comp.graphics', 'sci.space', 'talk.religion.misc']\n"
     ]
    }
   ],
   "source": [
    "categories = ['alt.atheism', 'talk.religion.misc', 'comp.graphics', 'sci.space']\n",
    "newsgroups_train = fetch_20newsgroups(subset='train',\n",
    "                                      remove=('headers', 'footers', 'quotes'),\n",
    "                                      categories=categories)\n",
    "newsgroups_test = fetch_20newsgroups(subset='test',\n",
    "                                     remove=('headers', 'footers', 'quotes'),\n",
    "                                     categories=categories)\n",
    "\n",
    "num_test = len(newsgroups_test.target)\n",
    "test_data, test_labels = newsgroups_test.data[num_test/2:], newsgroups_test.target[num_test/2:]\n",
    "dev_data, dev_labels = newsgroups_test.data[:num_test/2], newsgroups_test.target[:num_test/2]\n",
    "train_data, train_labels = newsgroups_train.data, newsgroups_train.target\n",
    "\n",
    "print 'training label shape:', train_labels.shape\n",
    "print 'test label shape:', test_labels.shape\n",
    "print 'dev label shape:', dev_labels.shape\n",
    "print 'labels names:', newsgroups_train.target_names"
   ]
  },
  {
   "cell_type": "markdown",
   "metadata": {},
   "source": [
    "(1) For each of the first 5 training examples, print the text of the message along with the label."
   ]
  },
  {
   "cell_type": "code",
   "execution_count": 3,
   "metadata": {},
   "outputs": [
    {
     "name": "stdout",
     "output_type": "stream",
     "text": [
      "Text at Index 0:\n",
      "Hi,\n",
      "\n",
      "I've noticed that if you only save a model (with all your mapping planes\n",
      "positioned carefully) to a .3DS file that when you reload it after restarting\n",
      "3DS, they are given a default position and orientation.  But if you save\n",
      "to a .PRJ file their positions/orientation are preserved.  Does anyone\n",
      "know why this information is not stored in the .3DS file?  Nothing is\n",
      "explicitly said in the manual about saving texture rules in the .PRJ file. \n",
      "I'd like to be able to read the texture rule information, does anyone have \n",
      "the format for the .PRJ file?\n",
      "\n",
      "Is the .CEL file format available from somewhere?\n",
      "\n",
      "Rych\n",
      "\n",
      "Label for Index 0: comp.graphics\n",
      "\n",
      "Text at Index 1:\n",
      "\n",
      "\n",
      "Seems to be, barring evidence to the contrary, that Koresh was simply\n",
      "another deranged fanatic who thought it neccessary to take a whole bunch of\n",
      "folks with him, children and all, to satisfy his delusional mania. Jim\n",
      "Jones, circa 1993.\n",
      "\n",
      "\n",
      "Nope - fruitcakes like Koresh have been demonstrating such evil corruption\n",
      "for centuries.\n",
      "\n",
      "Label for Index 1: talk.religion.misc\n",
      "\n",
      "Text at Index 2:\n",
      "\n",
      " >In article <1993Apr19.020359.26996@sq.sq.com>, msb@sq.sq.com (Mark Brader) \n",
      "\n",
      "MB>                                                             So the\n",
      "MB> 1970 figure seems unlikely to actually be anything but a perijove.\n",
      "\n",
      "JG>Sorry, _perijoves_...I'm not used to talking this language.\n",
      "\n",
      "Couldn't we just say periapsis or apoapsis?\n",
      "\n",
      " \n",
      "\n",
      "Label for Index 2: sci.space\n",
      "\n",
      "Text at Index 3:\n",
      "I have a request for those who would like to see Charley Wingate\n",
      "respond to the \"Charley Challenges\" (and judging from my e-mail, there\n",
      "appear to be quite a few of you.)  \n",
      "\n",
      "It is clear that Mr. Wingate intends to continue to post tangential or\n",
      "unrelated articles while ingoring the Challenges themselves.  Between\n",
      "the last two re-postings of the Challenges, I noted perhaps a dozen or\n",
      "more posts by Mr. Wingate, none of which answered a single Challenge.  \n",
      "\n",
      "It seems unmistakable to me that Mr. Wingate hopes that the questions\n",
      "will just go away, and he is doing his level best to change the\n",
      "subject.  Given that this seems a rather common net.theist tactic, I\n",
      "would like to suggest that we impress upon him our desire for answers,\n",
      "in the following manner:\n",
      "\n",
      "1. Ignore any future articles by Mr. Wingate that do not address the\n",
      "Challenges, until he answers them or explictly announces that he\n",
      "refuses to do so.\n",
      "\n",
      "--or--\n",
      "\n",
      "2. If you must respond to one of his articles, include within it\n",
      "something similar to the following:\n",
      "\n",
      "    \"Please answer the questions posed to you in the Charley Challenges.\"\n",
      "\n",
      "Really, I'm not looking to humiliate anyone here, I just want some\n",
      "honest answers.  You wouldn't think that honesty would be too much to\n",
      "ask from a devout Christian, would you?  \n",
      "\n",
      "Nevermind, that was a rhetorical question.\n",
      "\n",
      "Label for Index 3: alt.atheism\n",
      "\n",
      "Text at Index 4:\n",
      "AW&ST  had a brief blurb on a Manned Lunar Exploration confernce\n",
      "May 7th  at Crystal City Virginia, under the auspices of AIAA.\n",
      "\n",
      "Does anyone know more about this?  How much, to attend????\n",
      "\n",
      "Anyone want to go?\n",
      "\n",
      "Label for Index 4: sci.space\n",
      "\n"
     ]
    }
   ],
   "source": [
    "def P1(num_examples = 5):\n",
    "### STUDENT START ###\n",
    "\n",
    "    for i in range(num_examples):\n",
    "        print 'Text at Index ' + str(i) + ':\\n' + train_data[i] + '\\n\\nLabel for Index ' + str(i)\\\n",
    "              + ': ' + newsgroups_train.target_names[train_labels[i]] + '\\n'\n",
    "    \n",
    "### STUDENT END ###\n",
    "\n",
    "P1()"
   ]
  },
  {
   "cell_type": "markdown",
   "metadata": {},
   "source": [
    "(2) Use CountVectorizer to turn the raw training text into feature vectors. You should use the fit_transform function, which makes 2 passes through the data: first it computes the vocabulary (\"fit\"), second it converts the raw text into feature vectors using the vocabulary (\"transform\").\n",
    "\n",
    "The vectorizer has a lot of options. To get familiar with some of them, write code to answer these questions:\n",
    "\n",
    "a. The output of the transform (also of fit_transform) is a sparse matrix: http://docs.scipy.org/doc/scipy-0.14.0/reference/generated/scipy.sparse.csr_matrix.html. What is the size of the vocabulary? What is the average number of non-zero features per example? What fraction of the entries in the matrix are non-zero? Hint: use \"nnz\" and \"shape\" attributes.\n",
    "\n",
    "b. What are the 0th and last feature strings (in alphabetical order)? Hint: use the vectorizer's get_feature_names function.\n",
    "\n",
    "c. Specify your own vocabulary with 4 words: [\"atheism\", \"graphics\", \"space\", \"religion\"]. Confirm the training vectors are appropriately shaped. Now what's the average number of non-zero features per example?\n",
    "\n",
    "d. Instead of extracting unigram word features, use \"analyzer\" and \"ngram_range\" to extract bigram and trigram character features. What size vocabulary does this yield?\n",
    "\n",
    "e. Use the \"min_df\" argument to prune words that appear in fewer than 10 documents. What size vocabulary does this yield?\n",
    "\n",
    "f. Using the standard CountVectorizer, what fraction of the words in the dev data are missing from the vocabulary? Hint: build a vocabulary for both train and dev and look at the size of the difference."
   ]
  },
  {
   "cell_type": "code",
   "execution_count": 4,
   "metadata": {},
   "outputs": [
    {
     "name": "stdout",
     "output_type": "stream",
     "text": [
      "a)\n",
      "The vocabulary size is 26879\n",
      "The average number of non-zero features is 96.0\n",
      "The fraction of non-zero entries is 0.0036\n",
      "\n",
      "b)\n",
      "The first feature string is 00\n",
      "The last feature string is zyxel\n",
      "\n",
      "c)\n",
      "Confirm training vectors are appropriately shaped: (2034, 4)\n",
      "The new average number of non-zero features is 0.2684\n",
      "\n",
      "d)\n",
      "The bigram and trigram vocabulary size is 35478\n",
      "\n",
      "e)\n",
      "The minimum 10 documents per word vocabulary size is 3064\n",
      "\n",
      "f)\n",
      "The fraction of dev words not in the training vocabulary is 0.2479\n"
     ]
    }
   ],
   "source": [
    "def P2():\n",
    "### STUDENT START ###\n",
    "    \n",
    "    print 'a)'\n",
    "    cv     = CountVectorizer()\n",
    "    cv_fit = cv.fit_transform(train_data)\n",
    "    print 'The vocabulary size is {}'.format(cv_fit.shape[1])\n",
    "    print 'The average number of non-zero features is {}'.format(round(cv_fit.nnz / cv_fit.shape[0], 4))\n",
    "    print 'The fraction of non-zero entries is {}'.format(round(float(cv_fit.nnz) / (cv_fit.shape[0] * cv_fit.shape[1]), 4))\n",
    "    \n",
    "    print '\\nb)'\n",
    "    print 'The first feature string is ' + cv.get_feature_names()[0]\n",
    "    print 'The last feature string is ' + cv.get_feature_names()[-1]\n",
    "    \n",
    "    print '\\nc)'\n",
    "    my_vocab = [\"atheism\", \"graphics\", \"space\", \"religion\"]\n",
    "    my_cv    = CountVectorizer(vocabulary = my_vocab)\n",
    "    my_fit   = my_cv.fit_transform(train_data)\n",
    "    print 'Confirm training vectors are appropriately shaped: {}'.format(my_fit.shape)\n",
    "    print 'The new average number of non-zero features is {}'.format(round(float(my_fit.nnz) / my_fit.shape[0], 4))\n",
    "    \n",
    "    print '\\nd)'\n",
    "    bigram_trigram     = CountVectorizer(analyzer = 'char', ngram_range = (2, 3))\n",
    "    bigram_trigram_fit = bigram_trigram.fit_transform(train_data)\n",
    "    print 'The bigram and trigram vocabulary size is {}'.format(bigram_trigram_fit.shape[1])\n",
    "    \n",
    "    print '\\ne)'\n",
    "    min_cv     = CountVectorizer(min_df = 10)\n",
    "    min_cv_fit = min_cv.fit_transform(train_data)\n",
    "    print 'The minimum 10 documents per word vocabulary size is {}'.format(min_cv_fit.shape[1])\n",
    "    \n",
    "    print '\\nf)' \n",
    "    cv_dev     = CountVectorizer()\n",
    "    cv_dev_fit = cv_dev.fit_transform(dev_data)\n",
    "    print 'The fraction of dev words not in the training vocabulary is {}'\\\n",
    "          .format(round(float(len(np.setdiff1d(cv_dev.get_feature_names(), cv.get_feature_names()))) / cv_dev_fit.shape[1], 4))\n",
    "    \n",
    "### STUDENT END ###\n",
    "\n",
    "P2()"
   ]
  },
  {
   "cell_type": "markdown",
   "metadata": {},
   "source": [
    "(3) Use the default CountVectorizer options and report the f1 score (use metrics.f1_score) for a k nearest neighbors classifier; find the optimal value for k. Also fit a Multinomial Naive Bayes model and find the optimal value for alpha. Finally, fit a logistic regression model and find the optimal value for the regularization strength C using l2 regularization. A few questions:\n",
    "\n",
    "a. Why doesn't nearest neighbors work well for this problem?\n",
    "\n",
    "b. Any ideas why logistic regression doesn't work as well as Naive Bayes?\n",
    "\n",
    "c. Logistic regression estimates a weight vector for each class, which you can access with the coef\\_ attribute. Output the sum of the squared weight values for each class for each setting of the C parameter. Briefly explain the relationship between the sum and the value of C."
   ]
  },
  {
   "cell_type": "code",
   "execution_count": 5,
   "metadata": {},
   "outputs": [
    {
     "name": "stdout",
     "output_type": "stream",
     "text": [
      "a)\n",
      "The optimal value for k is 7 with an F1 Score of 0.4505\n",
      "\n",
      "b)\n",
      "The best alpha value is 0.1 with an F1 Score of 0.7903\n",
      "\n",
      "c)\n"
     ]
    },
    {
     "name": "stderr",
     "output_type": "stream",
     "text": [
      "/anaconda2/lib/python2.7/site-packages/sklearn/naive_bayes.py:472: UserWarning: alpha too small will result in numeric errors, setting alpha = 1.0e-10\n",
      "  'setting alpha = %.1e' % _ALPHA_MIN)\n"
     ]
    },
    {
     "name": "stdout",
     "output_type": "stream",
     "text": [
      "C = 0.01 ; f1_score = 0.664699741758\n",
      "alt.atheism         comp.graphics       sci.space           talk.religion.misc  \n",
      "2.5415              2.9397              2.8625              2.25                \n",
      "C = 0.1 ; f1_score = 0.696624354242\n",
      "alt.atheism         comp.graphics       sci.space           talk.religion.misc  \n",
      "27.1295             24.659              27.4577             23.0261             \n",
      "C = 1 ; f1_score = 0.696086251954\n",
      "alt.atheism         comp.graphics       sci.space           talk.religion.misc  \n",
      "166.9839            130.9093            157.9449            145.7368            \n",
      "C = 10 ; f1_score = 0.686478292788\n",
      "alt.atheism         comp.graphics       sci.space           talk.religion.misc  \n",
      "586.1354            448.1432            539.2522            530.9443            \n",
      "C = 100 ; f1_score = 0.682809285362\n",
      "alt.atheism         comp.graphics       sci.space           talk.religion.misc  \n",
      "1404.3357           1081.8731           1269.0385           1315.2471           \n",
      "\n",
      "The optimal value for C is 0.1\n"
     ]
    }
   ],
   "source": [
    "def P3():\n",
    "### STUDENT START ###\n",
    "\n",
    "    # a)\n",
    "    cv           = CountVectorizer()\n",
    "    cv_train     = cv.fit_transform(train_data)\n",
    "    cv_dev_fit   = cv.transform(dev_data)\n",
    "    optimal_k    = 0\n",
    "    max_f1_score = 0\n",
    "    \n",
    "    for i in range(1, 20):\n",
    "        knn        = KNeighborsClassifier(n_neighbors = i).fit(cv_train, train_labels)\n",
    "        dev_preds  = knn.predict(cv_dev_fit)\n",
    "        f1_score_k = metrics.f1_score(dev_labels, dev_preds, average = 'weighted')\n",
    "        \n",
    "        if f1_score_k > max_f1_score:\n",
    "            max_f1_score = f1_score_k\n",
    "            optimal_k    = i\n",
    "        \n",
    "    print 'a)\\nThe optimal value for k is {} with an F1 Score of {:.4}'.format(optimal_k, max_f1_score)\n",
    "    \n",
    "    # b)\n",
    "    alphas           = [0, 0.0001, 0.001, 0.01, 0.1, 1.0, 10.0]\n",
    "    optimal_alpha    = 0\n",
    "    max_f1_score_mnb = 0\n",
    "    \n",
    "    for alpha_ in alphas:\n",
    "        mnb            = MultinomialNB(alpha = alpha_).fit(cv_train, train_labels)\n",
    "        mnb_preds      = mnb.predict(cv_dev_fit)\n",
    "        f1_score_alpha = metrics.f1_score(dev_labels, mnb_preds, average = 'weighted')\n",
    "        \n",
    "        if f1_score_alpha > max_f1_score_mnb:\n",
    "            max_f1_score_mnb = f1_score_alpha\n",
    "            optimal_alpha    = alpha_\n",
    "    \n",
    "    print '\\nb)\\nThe best alpha value is {} with an F1 Score of {:.4}'.format(optimal_alpha, max_f1_score_mnb)\n",
    "    \n",
    "    # c)\n",
    "    print '\\nc)'\n",
    "    c_values        = [1e-2, 1e-1, 1, 10, 100]\n",
    "    optimal_c       = 0\n",
    "    max_f1_score_lr = 0\n",
    "    \n",
    "    for c_ in c_values:\n",
    "        lr                  = LogisticRegression(C = c_).fit(cv_train, train_labels)\n",
    "        dev_preds           = lr.predict(cv_dev_fit)\n",
    "        f1_score_c          = metrics.f1_score(dev_labels, dev_preds, average = 'weighted')\n",
    "        sum_weights_squared = []\n",
    "        \n",
    "        for label in lr.coef_:\n",
    "            sum_weights_squared.append(round(sum(label ** 2), 4))\n",
    "        \n",
    "        print 'C = {} ; f1_score = {}'.format(c_, f1_score_c)\n",
    "        row_format = '{:<20}' * (len(newsgroups_train.target_names))\n",
    "        print row_format.format(* newsgroups_train.target_names)\n",
    "        print row_format.format(* sum_weights_squared)\n",
    "    \n",
    "        if f1_score_c > max_f1_score_lr:\n",
    "            max_f1_score_lr = f1_score_c\n",
    "            optimal_c = c_\n",
    "    \n",
    "    print '\\nThe optimal value for C is {}'.format(optimal_c)\n",
    "    \n",
    "### STUDENT END ###\n",
    "\n",
    "P3()"
   ]
  },
  {
   "cell_type": "markdown",
   "metadata": {},
   "source": [
    "ANSWER:\n",
    "\n",
    "a) K nearest neighbors does not work well in this problem because the large number of features introduces the possibility that one word could create noise if k is too small.\n",
    "\n",
    "b) Logistic regression will account for correlations between features. Since there are several thousand features to correlate, this will likely mean there is a lot of noise causing an inferior model.\n",
    "\n",
    "c) As the regularization strength C increases, the sum of squared weights also increases. So as we attempt to make the model more generalized, we're seeing features have much higher absolute weights than non-generalized training weights."
   ]
  },
  {
   "cell_type": "markdown",
   "metadata": {},
   "source": [
    "(4) Train a logistic regression model. Find the 5 features with the largest weights for each label -- 20 features in total. Create a table with 20 rows and 4 columns that shows the weight for each of these features for each of the labels. Create the table again with bigram features. Any surprising features in this table?"
   ]
  },
  {
   "cell_type": "code",
   "execution_count": 6,
   "metadata": {},
   "outputs": [
    {
     "name": "stdout",
     "output_type": "stream",
     "text": [
      "Standard CountVectorizer Logistic Regression Features\n",
      "\n",
      "                    alt.atheism         comp.graphics       sci.space           talk.religion.misc  \n",
      "deletion            1.125               -0.3982             -0.4204             -0.3956             \n",
      "atheists            1.0291              -0.0973             -0.3206             -0.8351             \n",
      "bobby               0.9903              -0.2208             -0.3407             -0.4634             \n",
      "religion            0.9541              -0.6169             -0.7924             -0.0643             \n",
      "atheism             0.9392              -0.4103             -0.4493             -0.4345             \n",
      "graphics            -0.7588             1.937               -1.336              -0.7627             \n",
      "image               -0.5822             1.3468              -0.8259             -0.469              \n",
      "file                -0.3348             1.2667              -0.8064             -0.6266             \n",
      "3d                  -0.3592             1.125               -0.7021             -0.3786             \n",
      "computer            0.1433              0.9781              -0.6819             -0.487              \n",
      "space               -1.2602             -1.3151             2.1622              -1.1709             \n",
      "orbit               -0.4138             -0.6718             1.2248              -0.6292             \n",
      "nasa                -0.5721             -0.4795             1.0115              -0.4677             \n",
      "launch              -0.4696             -0.4654             0.9363              -0.3326             \n",
      "spacecraft          -0.3554             -0.3934             0.9199              -0.3807             \n",
      "christians          -0.7403             -0.4093             -0.5251             1.1479              \n",
      "christian           -0.6081             -0.4186             -0.2704             1.1176              \n",
      "blood               -0.5336             -0.1067             -0.3161             1.0546              \n",
      "fbi                 -0.3088             -0.2736             -0.4481             0.9128              \n",
      "order               -0.7938             -0.0797             -0.1491             0.9051              \n",
      "\n",
      "Bigram CountVectorizer Logistic Regression Features\n",
      "\n",
      "                    alt.atheism         comp.graphics       sci.space           talk.religion.misc  \n",
      "claim that          0.7717              -0.2577             -0.3521             -0.2006             \n",
      "was just            0.6776              -0.1929             -0.198              -0.302              \n",
      "cheers kent         0.6491              -0.8824             -0.8219             0.6015              \n",
      "look up             0.6338              -0.2383             -0.1951             -0.1705             \n",
      "you are             0.5694              -0.3185             -0.5771             0.0007              \n",
      "looking for         -0.7556             1.3196              -0.6136             -0.6999             \n",
      "comp graphics       -0.3798             1.0372              -0.4708             -0.3966             \n",
      "in advance          -0.545              0.9723              -0.531              -0.5073             \n",
      "is there            -0.4285             0.9126              -0.5687             -0.3415             \n",
      "out there           -0.3243             0.8963              -0.5779             -0.3329             \n",
      "the space           -0.3141             -0.6459             1.0301              -0.3245             \n",
      "the moon            -0.4048             -0.5763             0.9517              -0.2406             \n",
      "sci space           -0.3177             -0.3885             0.7389              -0.2747             \n",
      "and such            -0.2423             -0.3997             0.6881              -0.2569             \n",
      "sherzer methodology -0.1577             -0.2265             0.6755              -0.1637             \n",
      "ignorance is        -0.2279             -0.2531             -0.2114             0.7457              \n",
      "such lunacy         -0.1491             -0.2164             -0.1907             0.7066              \n",
      "compuserve com      -0.1326             -0.2119             -0.2009             0.7015              \n",
      "the fbi             -0.1667             -0.2612             -0.3592             0.6538              \n",
      "is strength         -0.1764             -0.2249             -0.1952             0.648               \n"
     ]
    }
   ],
   "source": [
    "def P4():\n",
    "### STUDENT START ###\n",
    "\n",
    "    cv              = CountVectorizer()\n",
    "    cv_train        = cv.fit_transform(train_data)\n",
    "    lr              = LogisticRegression().fit(cv_train, train_labels)\n",
    "    # I chose to use the word bigram because I thought that would be more interesting to explore than character bigrams\n",
    "    cv_bigram       = CountVectorizer(analyzer = 'word', ngram_range = (2, 2))\n",
    "    cv_bigram_train = cv_bigram.fit_transform(train_data)\n",
    "    lr_bigram       = LogisticRegression().fit(cv_bigram_train, train_labels)\n",
    "    top_indexes     = []\n",
    "    top_indexes_bi  = []\n",
    "    \n",
    "    # Gather the top 5 standard CountVectorizer features for each label\n",
    "    for i in range(len(lr.coef_)):\n",
    "        top_feature_values = sorted(lr.coef_[i], reverse = True)[0:5]\n",
    "        \n",
    "        for j in top_feature_values:\n",
    "            top_indexes.append(int(np.where(lr.coef_[i] == j)[0]))\n",
    "            \n",
    "    # Print the standard CountVectorizer table\n",
    "    print 'Standard CountVectorizer Logistic Regression Features\\n'\n",
    "    row_format = '{:<20}' * (len(newsgroups_train.target_names) + 1)\n",
    "    print row_format.format('', * newsgroups_train.target_names)\n",
    "    \n",
    "    for i in top_indexes:\n",
    "        print_list = []\n",
    "        \n",
    "        for j in range(len(lr.coef_)):\n",
    "            print_list.append(round(lr.coef_[j][i], 4))\n",
    "            \n",
    "        print row_format.format(cv.get_feature_names()[i], *print_list)\n",
    "        \n",
    "    # Gather the top 5 bigram CountVectorizer features for each label\n",
    "    for i in range(len(lr_bigram.coef_)):\n",
    "        top_feature_values_bi = sorted(lr_bigram.coef_[i], reverse = True)[0:5]\n",
    "        \n",
    "        for j in top_feature_values_bi:\n",
    "            top_indexes_bi.append(int(np.where(lr_bigram.coef_[i] == j)[0]))\n",
    "    \n",
    "    # Print the bigram CountVectorizer table\n",
    "    print '\\nBigram CountVectorizer Logistic Regression Features\\n'\n",
    "    row_format = '{:<20}' * (len(newsgroups_train.target_names) + 1)\n",
    "    print row_format.format('', * newsgroups_train.target_names)\n",
    "    \n",
    "    for i in top_indexes_bi:\n",
    "        print_list = []\n",
    "        \n",
    "        for j in range(len(lr_bigram.coef_)):\n",
    "            print_list.append(round(lr_bigram.coef_[j][i], 4))\n",
    "            \n",
    "        print row_format.format(cv_bigram.get_feature_names()[i], *print_list)\n",
    "    \n",
    "### STUDENT END ###\n",
    "\n",
    "P4()"
   ]
  },
  {
   "cell_type": "markdown",
   "metadata": {},
   "source": [
    "ANSWER: The first thing I noticed is for each word or bigram that was in the top 5 for that label, the feature held a negative weight for other labels almost all the time. The bigram table table shows that of the 20 features listed, nearly all of them have a word that likely would be classifed as a stopword, such as that, are, is, and the. These words show up most often and have very little impact on which classification the text will get. It's also interesting that the top 5 feature weights of the bigram model per label are much lower than the standard model. It's possible that these stopwords are introducing too much noise and detracting from model performance."
   ]
  },
  {
   "cell_type": "markdown",
   "metadata": {},
   "source": [
    "(5) Try to improve the logistic regression classifier by passing a custom preprocessor to CountVectorizer. The preprocessing function runs on the raw text, before it is split into words by the tokenizer. Your preprocessor should try to normalize the input in various ways to improve generalization. For example, try lowercasing everything, replacing sequences of numbers with a single token, removing various other non-letter characters, and shortening long words. If you're not already familiar with regular expressions for manipulating strings, see https://docs.python.org/2/library/re.html, and re.sub() in particular. With your new preprocessor, how much did you reduce the size of the dictionary?\n",
    "\n",
    "For reference, I was able to improve dev F1 by 2 points."
   ]
  },
  {
   "cell_type": "code",
   "execution_count": 7,
   "metadata": {},
   "outputs": [
    {
     "name": "stdout",
     "output_type": "stream",
     "text": [
      "The empty preprocessor has an F1 Score of 0.7023\n",
      "The better preprocessor has an F1 Score of 0.722\n",
      "My preprocessor improved dev F1 by 0.0197\n",
      "\n",
      "The better preprocessor vocabulary size is 25943, compared to the empty preprocessor size of 33291\n",
      "\n",
      "I found it interesting that adding an empty preprocessor yields different results than not having that parameter at all (comparing dictionary size between empty preprocessor and that from P2 a))\n"
     ]
    }
   ],
   "source": [
    "def empty_preprocessor(s):\n",
    "    return s\n",
    "\n",
    "def better_preprocessor(s):\n",
    "### STUDENT START ###\n",
    "\n",
    "    # Replace any non-alphanumeric, non-whitespace character with a string length 0\n",
    "    s = re.sub('[^a-z0-9\\s\\/]', '', s.lower())\n",
    "    \n",
    "    # Replace any numeric set of characters with ' numberreplace ' so it does not affect other tokens\n",
    "    s = re.sub('[0-9]+', ' numberreplace ', s)\n",
    "    \n",
    "    return s\n",
    "    \n",
    "### STUDENT END ###\n",
    "\n",
    "def P5():\n",
    "### STUDENT START ###\n",
    "\n",
    "    # Run the empty preprocessor vectorizer and model\n",
    "    cv_empty     = CountVectorizer(preprocessor = empty_preprocessor)\n",
    "    cv_empty_fit = cv_empty.fit_transform(train_data)\n",
    "    dev_empty    = cv_empty.transform(dev_data)\n",
    "    lr_empty     = LogisticRegression().fit(cv_empty_fit, train_labels)\n",
    "    empty_preds  = lr_empty.predict(dev_empty)\n",
    "    print 'The empty preprocessor has an F1 Score of {}'.format(\\\n",
    "          round(metrics.f1_score(dev_labels, empty_preds, average = 'weighted'), 4))\n",
    "    \n",
    "    # In addition to the better preprocessor, add the stop_words = 'english' parameter to the vectorizer\n",
    "    cv_better     = CountVectorizer(preprocessor = better_preprocessor, stop_words = 'english')\n",
    "    cv_better_fit = cv_better.fit_transform(train_data)\n",
    "    dev_better    = cv_better.transform(dev_data)\n",
    "    lr_better     = LogisticRegression().fit(cv_better_fit, train_labels)\n",
    "    better_preds  = lr_better.predict(dev_better)\n",
    "    print 'The better preprocessor has an F1 Score of {}'.format(\\\n",
    "          round(metrics.f1_score(dev_labels, better_preds, average = 'weighted'), 4))\n",
    "    print 'My preprocessor improved dev F1 by {}'.format(\\\n",
    "          round(metrics.f1_score(dev_labels, better_preds, average = 'weighted'), 4)\\\n",
    "          - round(metrics.f1_score(dev_labels, empty_preds, average = 'weighted'), 4))\n",
    "    \n",
    "    print '\\nThe better preprocessor vocabulary size is {}, compared to the empty preprocessor size of {}'\\\n",
    "          .format(cv_better_fit.shape[1], cv_empty_fit.shape[1])\n",
    "        \n",
    "    print '\\nI found it interesting that adding an empty preprocessor yields different results than not having'\\\n",
    "          ' that parameter at all (comparing dictionary size between empty preprocessor and that from P2 a))'\n",
    "    \n",
    "### STUDENT END ###\n",
    "\n",
    "P5()"
   ]
  },
  {
   "cell_type": "markdown",
   "metadata": {},
   "source": [
    "(6) The idea of regularization is to avoid learning very large weights (which are likely to fit the training data, but not generalize well) by adding a penalty to the total size of the learned weights. That is, logistic regression seeks the set of weights that minimizes errors in the training data AND has a small size. The default regularization, L2, computes this size as the sum of the squared weights (see P3, above). L1 regularization computes this size as the sum of the absolute values of the weights. The result is that whereas L2 regularization makes all the weights relatively small, L1 regularization drives lots of the weights to 0, effectively removing unimportant features.\n",
    "\n",
    "Train a logistic regression model using a \"l1\" penalty. Output the number of learned weights that are not equal to zero. How does this compare to the number of non-zero weights you get with \"l2\"? Now, reduce the size of the vocabulary by keeping only those features that have at least one non-zero weight and retrain a model using \"l2\".\n",
    "\n",
    "Make a plot showing accuracy of the re-trained model vs. the vocabulary size you get when pruning unused features by adjusting the C parameter.\n",
    "\n",
    "Note: The gradient descent code that trains the logistic regression model sometimes has trouble converging with extreme settings of the C parameter. Relax the convergence criteria by setting tol=.01 (the default is .0001)."
   ]
  },
  {
   "cell_type": "code",
   "execution_count": 4,
   "metadata": {},
   "outputs": [
    {
     "name": "stdout",
     "output_type": "stream",
     "text": [
      "                    alt.atheism         comp.graphics       sci.space           talk.religion.misc  \n",
      "Non-zero L1 weights 477                 400                 464                 473                 \n",
      "Non-zero L2 weights 26879               26879               26879               26879               \n",
      "[[ 0.45575221  0.46066863]\n",
      " [ 0.66912488  0.67109145]\n",
      " [ 0.73992134  0.75417896]\n",
      " [ 0.74877089  0.78416912]\n",
      " [ 0.72025565  0.78220256]]\n"
     ]
    },
    {
     "data": {
      "image/png": "[encoded data removed]",
      "text/plain": [
       "<matplotlib.figure.Figure at 0x108096650>"
      ]
     },
     "metadata": {},
     "output_type": "display_data"
    }
   ],
   "source": [
    "def P6():\n",
    "    # Keep this random seed here to make comparison easier.\n",
    "    np.random.seed(0)\n",
    "\n",
    "### STUDENT START ###\n",
    "    \n",
    "    cv_l1            = CountVectorizer()\n",
    "    cv_train_l1      = cv_l1.fit_transform(train_data)\n",
    "    lr_l1            = LogisticRegression(penalty = 'l1').fit(cv_train_l1, train_labels)\n",
    "    print_list_l1    = ['Non-zero L1 weights']\n",
    "    non_zero_indexes = []\n",
    "    \n",
    "    for i in range(len(lr_l1.coef_)):\n",
    "        print_list_l1.append(sum(lr_l1.coef_[i] <> 0))\n",
    "        \n",
    "        for j in range(len(lr_l1.coef_[i])):\n",
    "            if lr_l1.coef_[i][j] <> 0:\n",
    "                non_zero_indexes.append(j)\n",
    "    \n",
    "    keep_features = [cv_l1.get_feature_names()[k] for k in list(set(non_zero_indexes))]\n",
    "    \n",
    "    cv_l2         = CountVectorizer()\n",
    "    cv_train_l2   = cv_l2.fit_transform(train_data)\n",
    "    lr_l2         = LogisticRegression(penalty = 'l2').fit(cv_train_l2, train_labels)\n",
    "    print_list_l2 = ['Non-zero L2 weights']\n",
    "    \n",
    "    for m in lr_l2.coef_:\n",
    "        print_list_l2.append(sum(m <> 0))\n",
    "    \n",
    "    row_format = '{:<20}' * (len(newsgroups_train.target_names) + 1)\n",
    "    print row_format.format('', * newsgroups_train.target_names)\n",
    "    print row_format.format(* print_list_l1)\n",
    "    print row_format.format(* print_list_l2)\n",
    "    \n",
    "    cv_l2_pruned       = CountVectorizer(vocabulary = keep_features)\n",
    "    cv_train_l1_pruned = cv_l1_pruned.fit_transform(train_data)\n",
    "    lr_l1_pruned       = LogisticRegression(penalty = 'l1', tol = .01)\n",
    "    c_values           = {'C': [1e-2, 1e-1, 1, 10, 100]}\n",
    "    grid_search        = GridSearchCV(lr_l1, c_values)\n",
    "    grid_search_pruned = GridSearchCV(lr_l1_pruned, c_values)\n",
    "    grid_search.fit(cv_train_l1, train_labels)\n",
    "    grid_search_pruned.fit(cv_train_l1_pruned, train_labels)\n",
    "    \n",
    "    accuracies        = [n[1] for n in grid_search.grid_scores_]\n",
    "    pruned_accuracies = [o[1] for o in grid_search_pruned.grid_scores_]\n",
    "    all_accuracies    = []\n",
    "    \n",
    "    for p in range(len(accuracies)):\n",
    "        all_accuracies.append(accuracies[p])\n",
    "        all_accuracies.append(pruned_accuracies[p])\n",
    "    \n",
    "    all_accuracies = np.array(all_accuracies).reshape(len(c_values.values()[0]), 2)\n",
    "    \n",
    "    print 'The '\n",
    "    \n",
    "    for ind, i in enumerate(c_values.values()[0]):\n",
    "        plt.plot([cv_train_l1.shape[1], cv_train_l1_pruned.shape[1]], all_accuracies[ind], label = 'C: ' + str(i))\n",
    "    plt.legend()\n",
    "    plt.xlabel('Vocabulary Size')\n",
    "    plt.ylabel('Accuracy')\n",
    "    plt.show()\n",
    "    \n",
    "### STUDENT END ###\n",
    "    \n",
    "P6()"
   ]
  },
  {
   "cell_type": "code",
   "execution_count": 9,
   "metadata": {},
   "outputs": [
    {
     "name": "stdout",
     "output_type": "stream",
     "text": [
      "[[ 0.96048971  0.93600445]\n",
      " [ 0.96271564  0.94546466]\n",
      " [ 0.96271564  0.94657763]\n",
      " [ 0.96271564  0.94657763]]\n"
     ]
    },
    {
     "data": {
      "text/plain": [
       "\"\\nfor ind, i in enumerate(Cs):\\n    plt.plot(Gammas, scores[ind], label='C: ' + str(i))\\nplt.legend()\\nplt.xlabel('Gamma')\\nplt.ylabel('Mean score')\\nplt.show()\\n\""
      ]
     },
     "execution_count": 9,
     "metadata": {},
     "output_type": "execute_result"
    }
   ],
   "source": [
    "from sklearn.svm import SVC\n",
    "from sklearn.grid_search import GridSearchCV\n",
    "from sklearn import datasets\n",
    "import matplotlib.pyplot as plt\n",
    "import seaborn as sns\n",
    "import numpy as np\n",
    "\n",
    "digits = datasets.load_digits()\n",
    "X = digits.data\n",
    "y = digits.target\n",
    "\n",
    "clf_ = SVC(kernel='rbf')\n",
    "Cs = [1, 10, 100, 1000]\n",
    "Gammas = [1e-3, 1e-4]\n",
    "clf = GridSearchCV(clf_,\n",
    "            dict(C=Cs,\n",
    "                 gamma=Gammas),\n",
    "                 cv=2,\n",
    "                 pre_dispatch='1*n_jobs',\n",
    "                 n_jobs=1)\n",
    "\n",
    "clf.fit(X, y)\n",
    "\n",
    "scores = [x[1] for x in clf.grid_scores_]\n",
    "scores = np.array(scores).reshape(len(Cs), len(Gammas))\n",
    "#print clf.grid_scores_\n",
    "print scores\n",
    "#scores = np.array(scores).reshape(len(Cs), len(Gammas))\n",
    "'''\n",
    "for ind, i in enumerate(Cs):\n",
    "    plt.plot(Gammas, scores[ind], label='C: ' + str(i))\n",
    "plt.legend()\n",
    "plt.xlabel('Gamma')\n",
    "plt.ylabel('Mean score')\n",
    "plt.show()\n",
    "'''"
   ]
  },
  {
   "cell_type": "markdown",
   "metadata": {},
   "source": [
    "(7) Use the TfidfVectorizer -- how is this different from the CountVectorizer? Train a logistic regression model with C=100.\n",
    "\n",
    "Make predictions on the dev data and show the top 3 documents where the ratio R is largest, where R is:\n",
    "\n",
    "maximum predicted probability / predicted probability of the correct label\n",
    "\n",
    "What kinds of mistakes is the model making? Suggest a way to address one particular issue that you see."
   ]
  },
  {
   "cell_type": "code",
   "execution_count": 16,
   "metadata": {
    "collapsed": true
   },
   "outputs": [],
   "source": [
    "#def P7():\n",
    "### STUDENT START ###\n",
    "\n",
    "\n",
    "\n",
    "## STUDENT END ###\n",
    "\n",
    "#P7()"
   ]
  },
  {
   "cell_type": "markdown",
   "metadata": {},
   "source": [
    "ANSWER:"
   ]
  },
  {
   "cell_type": "markdown",
   "metadata": {},
   "source": [
    "(8) EXTRA CREDIT\n",
    "\n",
    "Try implementing one of your ideas based on your error analysis. Use logistic regression as your underlying model."
   ]
  },
  {
   "cell_type": "code",
   "execution_count": null,
   "metadata": {
    "collapsed": true
   },
   "outputs": [],
   "source": []
  }
 ],
 "metadata": {
  "kernelspec": {
   "display_name": "Python 2",
   "language": "python",
   "name": "python2"
  },
  "language_info": {
   "codemirror_mode": {
    "name": "ipython",
    "version": 2
   },
   "file_extension": ".py",
   "mimetype": "text/x-python",
   "name": "python",
   "nbconvert_exporter": "python",
   "pygments_lexer": "ipython2",
   "version": "2.7.14"
  }
 },
 "nbformat": 4,
 "nbformat_minor": 1
}
